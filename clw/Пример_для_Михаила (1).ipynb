{
 "cells": [
  {
   "cell_type": "markdown",
   "id": "135d99da-7eab-450b-b535-2dc34ca89221",
   "metadata": {},
   "source": [
    "Если я подчеркну 1 раз, то это принятое соглашение в Python, что данный атрибут не является частью публичного интерфейса класса и его не следует использовать напрямую за его пределами. НО!!! ничего не мешает мне получить доступ к _owner из кода вне класса"
   ]
  },
  {
   "cell_type": "code",
   "execution_count": 3,
   "id": "de4b40c0-99ad-4a64-8855-347711b3760f",
   "metadata": {},
   "outputs": [
    {
     "name": "stdout",
     "output_type": "stream",
     "text": [
      "Оля\n",
      "Лола\n",
      "Лили\n",
      "Елена\n"
     ]
    },
    {
     "ename": "AttributeError",
     "evalue": "property 'owner' of 'HomeCat' object has no setter",
     "output_type": "error",
     "traceback": [
      "\u001b[1;31m---------------------------------------------------------------------------\u001b[0m",
      "\u001b[1;31mAttributeError\u001b[0m                            Traceback (most recent call last)",
      "Cell \u001b[1;32mIn[3], line 18\u001b[0m\n\u001b[0;32m     16\u001b[0m cat\u001b[38;5;241m.\u001b[39m_owner \u001b[38;5;241m=\u001b[39m \u001b[38;5;124m'\u001b[39m\u001b[38;5;124mЕлена\u001b[39m\u001b[38;5;124m'\u001b[39m\n\u001b[0;32m     17\u001b[0m \u001b[38;5;28mprint\u001b[39m(cat\u001b[38;5;241m.\u001b[39mowner)\n\u001b[1;32m---> 18\u001b[0m \u001b[43mcat\u001b[49m\u001b[38;5;241;43m.\u001b[39;49m\u001b[43mowner\u001b[49m \u001b[38;5;241m=\u001b[39m \u001b[38;5;124m'\u001b[39m\u001b[38;5;124mПалина\u001b[39m\u001b[38;5;124m'\u001b[39m\n\u001b[0;32m     19\u001b[0m \u001b[38;5;28mprint\u001b[39m(cat\u001b[38;5;241m.\u001b[39mowner)\n",
      "\u001b[1;31mAttributeError\u001b[0m: property 'owner' of 'HomeCat' object has no setter"
     ]
    }
   ],
   "source": [
    "class HomeCat():\n",
    "    def __init__(self, name, owner):\n",
    "        self.name = name\n",
    "        self._owner = owner\n",
    "  \n",
    "    @property\n",
    "    def owner(self):\n",
    "        return self._owner\n",
    "\n",
    "cat = HomeCat('Лола','Оля')\n",
    "\n",
    "print(cat.owner)\n",
    "print(cat.name)\n",
    "cat.name = 'Лили'\n",
    "print(cat.name)\n",
    "cat._owner = 'Елена'\n",
    "print(cat.owner)\n",
    "cat.owner = 'Палина'\n",
    "print(cat.owner)"
   ]
  },
  {
   "cell_type": "markdown",
   "id": "fd2139cb-cb6b-4343-9e5a-893e32608a5d",
   "metadata": {},
   "source": [
    "Теперь подчеркну 2 раза. Это активирует механизм \"name mangling\" (искажение имени), при котором имя атрибута автоматически преобразуется в уникальное: _<ИмяКласса>__<ИмяАтрибута> (например, _HomeCat__owner).\n",
    "Это защищает атрибут от случайного или преднамеренного доступа извне."
   ]
  },
  {
   "cell_type": "code",
   "execution_count": 11,
   "id": "9019e6b4-e8ef-443a-b555-c5c52e442991",
   "metadata": {},
   "outputs": [
    {
     "name": "stdout",
     "output_type": "stream",
     "text": [
      "Оля\n",
      "Лола\n",
      "Лили\n"
     ]
    },
    {
     "ename": "AttributeError",
     "evalue": "'HomeCat' object has no attribute '__owner'",
     "output_type": "error",
     "traceback": [
      "\u001b[1;31m---------------------------------------------------------------------------\u001b[0m",
      "\u001b[1;31mAttributeError\u001b[0m                            Traceback (most recent call last)",
      "Cell \u001b[1;32mIn[11], line 16\u001b[0m\n\u001b[0;32m     14\u001b[0m cat\u001b[38;5;241m.\u001b[39mname \u001b[38;5;241m=\u001b[39m \u001b[38;5;124m'\u001b[39m\u001b[38;5;124mЛили\u001b[39m\u001b[38;5;124m'\u001b[39m\n\u001b[0;32m     15\u001b[0m \u001b[38;5;28mprint\u001b[39m(cat\u001b[38;5;241m.\u001b[39mname)\n\u001b[1;32m---> 16\u001b[0m \u001b[38;5;28mprint\u001b[39m(\u001b[43mcat\u001b[49m\u001b[38;5;241;43m.\u001b[39;49m\u001b[43m__owner\u001b[49m)\n",
      "\u001b[1;31mAttributeError\u001b[0m: 'HomeCat' object has no attribute '__owner'"
     ]
    }
   ],
   "source": [
    "class HomeCat():\n",
    "    def __init__(self, name, owner):\n",
    "        self.name = name\n",
    "        self.__owner = owner\n",
    "  \n",
    "    @property\n",
    "    def owner(self):\n",
    "        return self.__owner\n",
    "\n",
    "cat = HomeCat('Лола','Оля')\n",
    "\n",
    "print(cat.owner)\n",
    "print(cat.name)\n",
    "cat.name = 'Лили'\n",
    "print(cat.name)\n",
    "print(cat.__owner)"
   ]
  },
  {
   "cell_type": "code",
   "execution_count": 13,
   "id": "ae67fc75-4cb7-4ef1-807c-aaa4dca624d2",
   "metadata": {},
   "outputs": [
    {
     "name": "stdout",
     "output_type": "stream",
     "text": [
      "Оля\n",
      "Елена\n",
      "Оля\n"
     ]
    },
    {
     "ename": "AttributeError",
     "evalue": "property 'owner' of 'HomeCat' object has no setter",
     "output_type": "error",
     "traceback": [
      "\u001b[1;31m---------------------------------------------------------------------------\u001b[0m",
      "\u001b[1;31mAttributeError\u001b[0m                            Traceback (most recent call last)",
      "Cell \u001b[1;32mIn[13], line 5\u001b[0m\n\u001b[0;32m      3\u001b[0m \u001b[38;5;28mprint\u001b[39m(cat\u001b[38;5;241m.\u001b[39m__owner)\n\u001b[0;32m      4\u001b[0m \u001b[38;5;28mprint\u001b[39m(cat\u001b[38;5;241m.\u001b[39m_HomeCat__owner) \n\u001b[1;32m----> 5\u001b[0m \u001b[43mcat\u001b[49m\u001b[38;5;241;43m.\u001b[39;49m\u001b[43mowner\u001b[49m \u001b[38;5;241m=\u001b[39m \u001b[38;5;124m'\u001b[39m\u001b[38;5;124mПалина\u001b[39m\u001b[38;5;124m'\u001b[39m\n\u001b[0;32m      6\u001b[0m \u001b[38;5;28mprint\u001b[39m(cat\u001b[38;5;241m.\u001b[39mowner)\n",
      "\u001b[1;31mAttributeError\u001b[0m: property 'owner' of 'HomeCat' object has no setter"
     ]
    }
   ],
   "source": [
    "cat.__owner = 'Елена'\n",
    "print(cat.owner)\n",
    "print(cat.__owner)\n",
    "print(cat._HomeCat__owner) \n",
    "cat.owner = 'Палина'\n",
    "print(cat.owner)"
   ]
  },
  {
   "cell_type": "code",
   "execution_count": 14,
   "id": "6e56eec7-b9c7-42a9-8244-5d37aaf8cd7a",
   "metadata": {},
   "outputs": [
    {
     "name": "stdout",
     "output_type": "stream",
     "text": [
      "Павел\n",
      "Павел\n"
     ]
    }
   ],
   "source": [
    "cat._HomeCat__owner = 'Павел'\n",
    "print(cat._HomeCat__owner) \n",
    "print(cat.owner)"
   ]
  },
  {
   "cell_type": "markdown",
   "id": "922fc74b-5bd3-4dff-9552-ca8969d243bf",
   "metadata": {},
   "source": [
    "Вывод: двойное подчеркивание - строгое ограничение, одинарное - не строгое."
   ]
  },
  {
   "cell_type": "markdown",
   "id": "d8c28d0e-cde1-4bfe-8c24-b8b238f00365",
   "metadata": {},
   "source": [
    "Бонус :)"
   ]
  },
  {
   "cell_type": "code",
   "execution_count": 15,
   "id": "2df2ebd7-1e0f-4240-9cc1-ec47330763db",
   "metadata": {},
   "outputs": [
    {
     "name": "stdout",
     "output_type": "stream",
     "text": [
      "Оля\n",
      "Лола\n",
      "Лили\n",
      "Елена\n"
     ]
    },
    {
     "ename": "AttributeError",
     "evalue": "property 'owner' of 'HomeCat' object has no setter",
     "output_type": "error",
     "traceback": [
      "\u001b[1;31m---------------------------------------------------------------------------\u001b[0m",
      "\u001b[1;31mAttributeError\u001b[0m                            Traceback (most recent call last)",
      "Cell \u001b[1;32mIn[15], line 18\u001b[0m\n\u001b[0;32m     16\u001b[0m cat\u001b[38;5;241m.\u001b[39mnewowner \u001b[38;5;241m=\u001b[39m \u001b[38;5;124m'\u001b[39m\u001b[38;5;124mЕлена\u001b[39m\u001b[38;5;124m'\u001b[39m\n\u001b[0;32m     17\u001b[0m \u001b[38;5;28mprint\u001b[39m(cat\u001b[38;5;241m.\u001b[39mowner)\n\u001b[1;32m---> 18\u001b[0m \u001b[43mcat\u001b[49m\u001b[38;5;241;43m.\u001b[39;49m\u001b[43mowner\u001b[49m \u001b[38;5;241m=\u001b[39m \u001b[38;5;124m'\u001b[39m\u001b[38;5;124mПалина\u001b[39m\u001b[38;5;124m'\u001b[39m\n\u001b[0;32m     19\u001b[0m \u001b[38;5;28mprint\u001b[39m(cat\u001b[38;5;241m.\u001b[39mowner)\n",
      "\u001b[1;31mAttributeError\u001b[0m: property 'owner' of 'HomeCat' object has no setter"
     ]
    }
   ],
   "source": [
    "class HomeCat():\n",
    "    def __init__(self, name, owner):\n",
    "        self.name = name\n",
    "        self.newowner = owner\n",
    "  \n",
    "    @property\n",
    "    def owner(self):\n",
    "        return self.newowner\n",
    "\n",
    "cat = HomeCat('Лола','Оля')\n",
    "\n",
    "print(cat.owner)\n",
    "print(cat.name)\n",
    "cat.name = 'Лили'\n",
    "print(cat.name)\n",
    "cat.newowner = 'Елена'\n",
    "print(cat.owner)\n",
    "cat.owner = 'Палина'\n",
    "print(cat.owner)"
   ]
  },
  {
   "cell_type": "code",
   "execution_count": 20,
   "id": "ac551dd0-2611-497d-92d9-453d3453506c",
   "metadata": {},
   "outputs": [
    {
     "name": "stdout",
     "output_type": "stream",
     "text": [
      "Оля\n",
      "Лола\n",
      "Лили\n",
      "Елена\n"
     ]
    },
    {
     "ename": "AttributeError",
     "evalue": "property 'owner' of 'HomeCat' object has no setter",
     "output_type": "error",
     "traceback": [
      "\u001b[1;31m---------------------------------------------------------------------------\u001b[0m",
      "\u001b[1;31mAttributeError\u001b[0m                            Traceback (most recent call last)",
      "Cell \u001b[1;32mIn[20], line 26\u001b[0m\n\u001b[0;32m     24\u001b[0m cat\u001b[38;5;241m.\u001b[39m_owner \u001b[38;5;241m=\u001b[39m \u001b[38;5;124m'\u001b[39m\u001b[38;5;124mЕлена\u001b[39m\u001b[38;5;124m'\u001b[39m\n\u001b[0;32m     25\u001b[0m \u001b[38;5;28mprint\u001b[39m(cat\u001b[38;5;241m.\u001b[39mowner)\n\u001b[1;32m---> 26\u001b[0m \u001b[43mcat\u001b[49m\u001b[38;5;241;43m.\u001b[39;49m\u001b[43mowner\u001b[49m \u001b[38;5;241m=\u001b[39m \u001b[38;5;124m'\u001b[39m\u001b[38;5;124mПалина\u001b[39m\u001b[38;5;124m'\u001b[39m \n",
      "\u001b[1;31mAttributeError\u001b[0m: property 'owner' of 'HomeCat' object has no setter"
     ]
    }
   ],
   "source": [
    "class HomeCat():\n",
    "    def __init__(self, name, owner):\n",
    "        self.name = name\n",
    "        self._owner = owner\n",
    "  \n",
    "    @property\n",
    "    def owner(self):\n",
    "        return self._owner\n",
    "\n",
    "class Kitten(HomeCat):\n",
    "    def __init__(self, name, owner, color):\n",
    "        super().__init__(name, owner)\n",
    "        self.color = color\n",
    "\n",
    "    def meow(self):\n",
    "        print(f\"{self.name} says meow!\")\n",
    "\n",
    "cat = HomeCat('Лола', 'Оля')\n",
    "\n",
    "print(cat.owner)\n",
    "print(cat.name)\n",
    "cat.name = 'Лили'\n",
    "print(cat.name)\n",
    "cat._owner = 'Елена'\n",
    "print(cat.owner)\n",
    "cat.owner = 'Палина' "
   ]
  },
  {
   "cell_type": "code",
   "execution_count": 21,
   "id": "652d2303-fe76-44ff-a9b2-07ff87552060",
   "metadata": {},
   "outputs": [
    {
     "name": "stdout",
     "output_type": "stream",
     "text": [
      "Маша\n",
      "Елена\n"
     ]
    },
    {
     "ename": "AttributeError",
     "evalue": "property 'owner' of 'Kitten' object has no setter",
     "output_type": "error",
     "traceback": [
      "\u001b[1;31m---------------------------------------------------------------------------\u001b[0m",
      "\u001b[1;31mAttributeError\u001b[0m                            Traceback (most recent call last)",
      "Cell \u001b[1;32mIn[21], line 5\u001b[0m\n\u001b[0;32m      3\u001b[0m kitten\u001b[38;5;241m.\u001b[39m_owner \u001b[38;5;241m=\u001b[39m \u001b[38;5;124m'\u001b[39m\u001b[38;5;124mЕлена\u001b[39m\u001b[38;5;124m'\u001b[39m\n\u001b[0;32m      4\u001b[0m \u001b[38;5;28mprint\u001b[39m(kitten\u001b[38;5;241m.\u001b[39mowner)\n\u001b[1;32m----> 5\u001b[0m \u001b[43mkitten\u001b[49m\u001b[38;5;241;43m.\u001b[39;49m\u001b[43mowner\u001b[49m \u001b[38;5;241m=\u001b[39m \u001b[38;5;124m'\u001b[39m\u001b[38;5;124mПалина\u001b[39m\u001b[38;5;124m'\u001b[39m \n",
      "\u001b[1;31mAttributeError\u001b[0m: property 'owner' of 'Kitten' object has no setter"
     ]
    }
   ],
   "source": [
    "kitten = Kitten('Лили', 'Маша', 'серая')\n",
    "print(kitten.owner)\n",
    "kitten._owner = 'Елена'\n",
    "print(kitten.owner)\n",
    "kitten.owner = 'Палина' "
   ]
  },
  {
   "cell_type": "code",
   "execution_count": 22,
   "id": "c4344ce1-2f53-45f5-9b84-f23fd1c84a35",
   "metadata": {},
   "outputs": [
    {
     "name": "stdout",
     "output_type": "stream",
     "text": [
      "Маша\n",
      "Елена\n",
      "Маша\n",
      "1346760814752\n",
      "1346760813392\n",
      "Павел\n",
      "1346760813552\n",
      "Павел\n",
      "Павел\n"
     ]
    },
    {
     "ename": "AttributeError",
     "evalue": "property 'owner' of 'Kitten' object has no setter",
     "output_type": "error",
     "traceback": [
      "\u001b[1;31m---------------------------------------------------------------------------\u001b[0m",
      "\u001b[1;31mAttributeError\u001b[0m                            Traceback (most recent call last)",
      "Cell \u001b[1;32mIn[22], line 31\u001b[0m\n\u001b[0;32m     29\u001b[0m kitten\u001b[38;5;241m.\u001b[39m__owner \u001b[38;5;241m=\u001b[39m \u001b[38;5;124m'\u001b[39m\u001b[38;5;124mПалина\u001b[39m\u001b[38;5;124m'\u001b[39m \n\u001b[0;32m     30\u001b[0m \u001b[38;5;28mprint\u001b[39m(kitten\u001b[38;5;241m.\u001b[39mowner)\n\u001b[1;32m---> 31\u001b[0m \u001b[43mkitten\u001b[49m\u001b[38;5;241;43m.\u001b[39;49m\u001b[43mowner\u001b[49m \u001b[38;5;241m=\u001b[39m \u001b[38;5;124m'\u001b[39m\u001b[38;5;124mПалина\u001b[39m\u001b[38;5;124m'\u001b[39m \n",
      "\u001b[1;31mAttributeError\u001b[0m: property 'owner' of 'Kitten' object has no setter"
     ]
    }
   ],
   "source": []
  },
  {
   "cell_type": "code",
   "execution_count": 23,
   "id": "b96bf976",
   "metadata": {},
   "outputs": [
    {
     "name": "stdout",
     "output_type": "stream",
     "text": [
      "Маша\n",
      "Елена\n",
      "Маша\n",
      "1346760720288\n",
      "1346760715088\n",
      "Павел\n",
      "1346760720208\n",
      "Павел\n",
      "Павел\n"
     ]
    },
    {
     "ename": "AttributeError",
     "evalue": "property 'owner' of 'Kitten' object has no setter",
     "output_type": "error",
     "traceback": [
      "\u001b[1;31m---------------------------------------------------------------------------\u001b[0m",
      "\u001b[1;31mAttributeError\u001b[0m                            Traceback (most recent call last)",
      "Cell \u001b[1;32mIn[23], line 31\u001b[0m\n\u001b[0;32m     29\u001b[0m kitten\u001b[38;5;241m.\u001b[39m__owner \u001b[38;5;241m=\u001b[39m \u001b[38;5;124m'\u001b[39m\u001b[38;5;124mПалина\u001b[39m\u001b[38;5;124m'\u001b[39m \n\u001b[0;32m     30\u001b[0m \u001b[38;5;28mprint\u001b[39m(kitten\u001b[38;5;241m.\u001b[39mowner)\n\u001b[1;32m---> 31\u001b[0m \u001b[43mkitten\u001b[49m\u001b[38;5;241;43m.\u001b[39;49m\u001b[43mowner\u001b[49m \u001b[38;5;241m=\u001b[39m \u001b[38;5;124m'\u001b[39m\u001b[38;5;124mПалина\u001b[39m\u001b[38;5;124m'\u001b[39m \n",
      "\u001b[1;31mAttributeError\u001b[0m: property 'owner' of 'Kitten' object has no setter"
     ]
    }
   ],
   "source": [
    "class HomeCat():\n",
    "    def __init__(self, name, owner):\n",
    "        self.name = name\n",
    "        self.__owner = owner\n",
    "  \n",
    "    @property\n",
    "    def owner(self):\n",
    "        return self.__owner\n",
    "\n",
    "class Kitten(HomeCat):\n",
    "    def __init__(self, name, owner, color):\n",
    "        super().__init__(name, owner)\n",
    "        self.color = color\n",
    "\n",
    "    def meow(self):\n",
    "        print(f\"{self.name} says meow!\")\n",
    "\n",
    "kitten = Kitten('Лили', 'Маша', 'серая')\n",
    "print(kitten.owner)\n",
    "kitten._owner = 'Елена'\n",
    "print(kitten._owner)\n",
    "print(kitten.owner)\n",
    "print(id(kitten._owner))\n",
    "print(id(kitten.owner))\n",
    "kitten._HomeCat__owner = 'Павел'\n",
    "print(kitten._HomeCat__owner) \n",
    "print(id(kitten._HomeCat__owner))\n",
    "print(kitten.owner)\n",
    "kitten.__owner = 'Палина' \n",
    "print(kitten.owner)\n",
    "kitten.owner = 'Палина' \n"
   ]
  }
 ],
 "metadata": {
  "kernelspec": {
   "display_name": "Python 3",
   "language": "python",
   "name": "python3"
  },
  "language_info": {
   "codemirror_mode": {
    "name": "ipython",
    "version": 3
   },
   "file_extension": ".py",
   "mimetype": "text/x-python",
   "name": "python",
   "nbconvert_exporter": "python",
   "pygments_lexer": "ipython3",
   "version": "3.12.2"
  }
 },
 "nbformat": 4,
 "nbformat_minor": 5
}
