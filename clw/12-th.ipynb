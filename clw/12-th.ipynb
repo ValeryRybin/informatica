{
 "cells": [
  {
   "cell_type": "code",
   "execution_count": 1,
   "id": "c595a764",
   "metadata": {},
   "outputs": [],
   "source": [
    "# в первой задаче количество уникальных подстрок"
   ]
  },
  {
   "cell_type": "code",
   "execution_count": 24,
   "id": "2121586c",
   "metadata": {},
   "outputs": [
    {
     "name": "stdout",
     "output_type": "stream",
     "text": [
      "8\n",
      "{'aaba', 'ba', 'a', 'aba', 'aab', 'aa', 'b', 'ab'}\n"
     ]
    }
   ],
   "source": [
    "s = input()\n",
    "answer = set()\n",
    "for length in range (1,len(s)+1):\n",
    "    for i in range (len(s)-length+1):\n",
    "        x=s[i:i+length]\n",
    "        answer.add(x)\n",
    "print(len(answer))\n",
    "print(answer)\n",
    "\n"
   ]
  },
  {
   "cell_type": "code",
   "execution_count": 8,
   "id": "4f1e315e",
   "metadata": {},
   "outputs": [
    {
     "data": {
      "text/plain": [
       "'\\nclass TrieNode:\\n    def __init__(self):\\n        self.children = [None] * 26\\n        self.is_end_of_word = False\\n\\nclass Trie:\\n    def __init__(self):\\n        self.root = TrieNode()\\n    \\n    def _char_to_index(self, char):\\n        return ord(char) - ord(\\'a\\')\\n    \\n    def insert(self, word):\\n        node = self.root\\n        for char in word:\\n            index = self._char_to_index(char)\\n            if node.children[index] is None:\\n                node.children[index] = TrieNode()\\n            node = node.children[index]\\n        node.is_end_of_word = True\\n\\n    def search(self, word):\\n        node = self.root\\n        for char in word:\\n            index = self._char_to_index(char)\\n            if node.children[index] is None:\\n                return False\\n            node = node.children[index]\\n        return node.is_end_of_word\\n\\n    def starts_with(self, prefix):\\n        node = self.root\\n        for char in prefix:\\n            index = self._char_to_index(char)\\n            if node.children[index] is None:\\n                return False\\n            node = node.children[index]\\n        return True\\n\\n    def _dfs(self, node, prefix):\\n        if node.is_end_of_word:\\n            print(prefix)\\n        for i in range(26):\\n            child = node.children[i]\\n            if child is not None:\\n                self._dfs(child, prefix + chr(i + ord(\\'a\\')))\\n\\n    def traverse(self):\\n        self._dfs(self.root, \"\")\\n\\ntrie = Trie()\\nwords = [\"apple\",\"applause\", \"app\", \"zoo\",\"banana\", \"band\"]\\nfor word in words:\\n    trie.insert(word)\\n\\nprint(\"Алфавитный порядок:\")\\ntrie.traverse()\\n'"
      ]
     },
     "execution_count": 8,
     "metadata": {},
     "output_type": "execute_result"
    }
   ],
   "source": [
    "def build_tree(self, string):\n",
    "    for i in range(len(string)):\n",
    "        node = self.root\n",
    "        for j in range (i, len(string)):\n",
    "            if string[j] not in node:\n",
    "                node[string[j]] = {}\n",
    "            node = node[string[j]]\n",
    "        \n",
    "        \n",
    "        \n",
    "'''\n",
    "class TrieNode:\n",
    "    def __init__(self):\n",
    "        self.children = [None] * 26\n",
    "        self.is_end_of_word = False\n",
    "\n",
    "class Trie:\n",
    "    def __init__(self):\n",
    "        self.root = TrieNode()\n",
    "    \n",
    "    def _char_to_index(self, char):\n",
    "        return ord(char) - ord('a')\n",
    "    \n",
    "    def insert(self, word):\n",
    "        node = self.root\n",
    "        for char in word:\n",
    "            index = self._char_to_index(char)\n",
    "            if node.children[index] is None:\n",
    "                node.children[index] = TrieNode()\n",
    "            node = node.children[index]\n",
    "        node.is_end_of_word = True\n",
    "\n",
    "    def search(self, word):\n",
    "        node = self.root\n",
    "        for char in word:\n",
    "            index = self._char_to_index(char)\n",
    "            if node.children[index] is None:\n",
    "                return False\n",
    "            node = node.children[index]\n",
    "        return node.is_end_of_word\n",
    "\n",
    "    def starts_with(self, prefix):\n",
    "        node = self.root\n",
    "        for char in prefix:\n",
    "            index = self._char_to_index(char)\n",
    "            if node.children[index] is None:\n",
    "                return False\n",
    "            node = node.children[index]\n",
    "        return True\n",
    "\n",
    "    def _dfs(self, node, prefix):\n",
    "        if node.is_end_of_word:\n",
    "            print(prefix)\n",
    "        for i in range(26):\n",
    "            child = node.children[i]\n",
    "            if child is not None:\n",
    "                self._dfs(child, prefix + chr(i + ord('a')))\n",
    "\n",
    "    def traverse(self):\n",
    "        self._dfs(self.root, \"\")\n",
    "\n",
    "trie = Trie()\n",
    "words = [\"apple\",\"applause\", \"app\", \"zoo\",\"banana\", \"band\"]\n",
    "for word in words:\n",
    "    trie.insert(word)\n",
    "\n",
    "print(\"Алфавитный порядок:\")\n",
    "trie.traverse()\n",
    "'''\n",
    "\n"
   ]
  },
  {
   "cell_type": "code",
   "execution_count": 25,
   "id": "c34c5e8e",
   "metadata": {},
   "outputs": [
    {
     "name": "stdout",
     "output_type": "stream",
     "text": [
      "0\n",
      "set()\n"
     ]
    }
   ],
   "source": [
    "s = input()\n",
    "answer = set()\n",
    "for i in range (len(s)):\n",
    "    for j in range (i+1,len(s)):\n",
    "        x=s[i:i+j]\n",
    "        answer.add(x)\n",
    "print(len(answer))\n",
    "print(answer)\n"
   ]
  },
  {
   "cell_type": "code",
   "execution_count": 29,
   "id": "426a550e",
   "metadata": {},
   "outputs": [
    {
     "data": {
      "text/plain": [
       "97"
      ]
     },
     "execution_count": 29,
     "metadata": {},
     "output_type": "execute_result"
    }
   ],
   "source": [
    "ord('a')"
   ]
  }
 ],
 "metadata": {
  "kernelspec": {
   "display_name": "Python 3",
   "language": "python",
   "name": "python3"
  },
  "language_info": {
   "codemirror_mode": {
    "name": "ipython",
    "version": 3
   },
   "file_extension": ".py",
   "mimetype": "text/x-python",
   "name": "python",
   "nbconvert_exporter": "python",
   "pygments_lexer": "ipython3",
   "version": "3.12.2"
  }
 },
 "nbformat": 4,
 "nbformat_minor": 5
}
