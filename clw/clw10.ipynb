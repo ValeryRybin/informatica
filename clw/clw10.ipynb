{
 "cells": [
  {
   "cell_type": "code",
   "execution_count": 2,
   "metadata": {},
   "outputs": [
    {
     "name": "stdout",
     "output_type": "stream",
     "text": [
      "[5, 6, 7, 9, 10, 15, 16]\n"
     ]
    }
   ],
   "source": [
    "def merge_sort(nums): \n",
    "    if len(nums) > 1:  # из пункта 1 помним, если в массиве 1 элемент, то он уже отсортирован\n",
    "        mid = len(nums)//2\n",
    "        left = nums[:mid] \n",
    "        right = nums[mid:]\n",
    "        left = merge_sort(left)  \n",
    "        right = merge_sort(right)  \n",
    "\n",
    "        i = j = k = 0\n",
    "\n",
    "        while i < len(left) and j < len(right): \n",
    "            if left[i] < right[j]: \n",
    "                nums[k] = left[i] \n",
    "                i+=1\n",
    "                '''\n",
    "                два отсортированных подмассива превратим в\n",
    "                один отсортированный массив nums. i для left, j для right и k для nums. \n",
    "                Сравним элементы в left и right и копируем меньший элемент в nums.\n",
    "                '''\n",
    "            else: \n",
    "                nums[k] = right[j] \n",
    "                j+=1\n",
    "            k+=1\n",
    "#добавим оставшиеся элементы из left и right в nums\n",
    "        while i < len(left): \n",
    "            nums[k] = left[i] \n",
    "            i+=1\n",
    "            k+=1\n",
    "\n",
    "        while j < len(right): \n",
    "            nums[k] = right[j] \n",
    "            j+=1\n",
    "            k+=1\n",
    "\n",
    "    return nums\n",
    "nums=[9,7,6,15,16,5,10]\n",
    "a=nums\n",
    "print(merge_sort(nums))\n"
   ]
  },
  {
   "cell_type": "code",
   "execution_count": 8,
   "metadata": {},
   "outputs": [
    {
     "name": "stdout",
     "output_type": "stream",
     "text": [
      "True\n"
     ]
    }
   ],
   "source": [
    "print('apple'<'banana')"
   ]
  }
 ],
 "metadata": {
  "kernelspec": {
   "display_name": "base",
   "language": "python",
   "name": "python3"
  },
  "language_info": {
   "codemirror_mode": {
    "name": "ipython",
    "version": 3
   },
   "file_extension": ".py",
   "mimetype": "text/x-python",
   "name": "python",
   "nbconvert_exporter": "python",
   "pygments_lexer": "ipython3",
   "version": "3.12.4"
  }
 },
 "nbformat": 4,
 "nbformat_minor": 2
}
